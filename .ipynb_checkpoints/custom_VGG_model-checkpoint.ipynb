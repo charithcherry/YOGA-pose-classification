{
 "cells": [
  {
   "cell_type": "code",
   "execution_count": 28,
   "metadata": {},
   "outputs": [],
   "source": [
    "import os\n",
    "import tensorflow as tf\n",
    "from tensorflow import keras\n",
    "from tensorflow.keras import layers\n",
    "from tensorflow.keras import Model\n",
    "from tensorflow.keras.preprocessing.image import ImageDataGenerator, img_to_array, load_img, array_to_img\n",
    "import zipfile\n",
    "import matplotlib.pyplot as plt\n",
    "import numpy as np\n",
    "import pandas as pd\n",
    "from PIL import ImageFile\n",
    "ImageFile.LOAD_TRUNCATED_IMAGES = True\n",
    "import shutil\n",
    "from tensorflow.keras.applications import VGG19\n",
    "\n",
    "\n",
    "from sklearn.metrics import classification_report, confusion_matrix\n",
    "\n",
    "import seaborn as sns"
   ]
  },
  {
   "cell_type": "code",
   "execution_count": 29,
   "metadata": {},
   "outputs": [],
   "source": [
    "train_datagen=ImageDataGenerator(rescale=1./255,horizontal_flip=True)\n",
    "valid_datagen=ImageDataGenerator(rescale=1./255)"
   ]
  },
  {
   "cell_type": "code",
   "execution_count": 44,
   "metadata": {},
   "outputs": [
    {
     "name": "stdout",
     "output_type": "stream",
     "text": [
      "Found 1081 images belonging to 5 classes.\n",
      "Found 470 images belonging to 5 classes.\n"
     ]
    }
   ],
   "source": [
    "train_generator = train_datagen.flow_from_directory(directory=r'./DATASET/TRAIN',\n",
    "                                                   batch_size=16,\n",
    "                                            class_mode='categorical',\n",
    "                                            target_size=(150, 150),\n",
    "                                                    shuffle=True)\n",
    "\n",
    "\n",
    "valid_generator = valid_datagen.flow_from_directory(directory=r'./DATASET/TEST',\n",
    "                                                    batch_size=16,\n",
    "                                            class_mode='categorical',\n",
    "                                                target_size=(150, 150),\n",
    "                                                    shuffle=False)\n",
    "\n"
   ]
  },
  {
   "cell_type": "code",
   "execution_count": 45,
   "metadata": {},
   "outputs": [
    {
     "name": "stdout",
     "output_type": "stream",
     "text": [
      "['downdog', 'goddess', 'plank', 'tree', 'warrior2']\n",
      "[223, 180, 266, 160, 252]\n"
     ]
    }
   ],
   "source": [
    "labels = []\n",
    "train_counts = []\n",
    "for dirname in os.listdir('./DATASET/TRAIN'):\n",
    "    labels.append(dirname)\n",
    "    image_count = 0\n",
    "    for img in os.listdir(os.path.join('./DATASET/TRAIN',dirname)):\n",
    "        image_count +=1\n",
    "    train_counts.append(image_count)\n",
    "print(labels)\n",
    "print(train_counts)"
   ]
  },
  {
   "cell_type": "code",
   "execution_count": 46,
   "metadata": {},
   "outputs": [
    {
     "name": "stdout",
     "output_type": "stream",
     "text": [
      "{0: 0.97, 1: 1.2, 2: 0.81, 3: 1.35, 4: 0.86}\n"
     ]
    }
   ],
   "source": [
    "class_weights = []\n",
    "total_samples = train_generator.samples\n",
    "total_classes = len(train_generator.class_indices)\n",
    "for ele in train_counts:\n",
    "    result = round(total_samples / (total_classes * ele),2)\n",
    "    class_weights.append(result)\n",
    "\n",
    "class_weights = dict(zip(train_generator.class_indices.values(),class_weights))\n",
    "print(class_weights)"
   ]
  },
  {
   "cell_type": "code",
   "execution_count": 47,
   "metadata": {},
   "outputs": [],
   "source": [
    "tf.keras.backend.clear_session()\n",
    "tf.random.set_seed(42)\n",
    "np.random.seed(42)"
   ]
  },
  {
   "cell_type": "code",
   "execution_count": 48,
   "metadata": {},
   "outputs": [],
   "source": [
    "def custom_model():\n",
    "    \n",
    "    \n",
    "    cus_model = VGG19(input_shape = (150,150,3),        \n",
    "                         weights='imagenet', \n",
    "                         include_top= False,)\n",
    "    \n",
    "   #Using pre-trained weights from imagenet \n",
    "    for layer in cus_model.layers:\n",
    "        layer.trainable = False\n",
    "\n",
    "    # Adding layers in a sequential manner\n",
    "    x = layers.Flatten()(cus_model.output)\n",
    "\n",
    "    x = layers.Dense(512, activation='relu')(x)\n",
    "    \n",
    "    x = layers.Dropout(0.2)(x)\n",
    " \n",
    "    x = layers.Dense(5, activation='softmax')(x)\n",
    "\n",
    "    model = Model(cus_model.input,x)\n",
    "    \n",
    "    return model\n",
    "\n"
   ]
  },
  {
   "cell_type": "code",
   "execution_count": 49,
   "metadata": {},
   "outputs": [
    {
     "name": "stdout",
     "output_type": "stream",
     "text": [
      "Model: \"functional_1\"\n",
      "_________________________________________________________________\n",
      "Layer (type)                 Output Shape              Param #   \n",
      "=================================================================\n",
      "input_1 (InputLayer)         [(None, 150, 150, 3)]     0         \n",
      "_________________________________________________________________\n",
      "block1_conv1 (Conv2D)        (None, 150, 150, 64)      1792      \n",
      "_________________________________________________________________\n",
      "block1_conv2 (Conv2D)        (None, 150, 150, 64)      36928     \n",
      "_________________________________________________________________\n",
      "block1_pool (MaxPooling2D)   (None, 75, 75, 64)        0         \n",
      "_________________________________________________________________\n",
      "block2_conv1 (Conv2D)        (None, 75, 75, 128)       73856     \n",
      "_________________________________________________________________\n",
      "block2_conv2 (Conv2D)        (None, 75, 75, 128)       147584    \n",
      "_________________________________________________________________\n",
      "block2_pool (MaxPooling2D)   (None, 37, 37, 128)       0         \n",
      "_________________________________________________________________\n",
      "block3_conv1 (Conv2D)        (None, 37, 37, 256)       295168    \n",
      "_________________________________________________________________\n",
      "block3_conv2 (Conv2D)        (None, 37, 37, 256)       590080    \n",
      "_________________________________________________________________\n",
      "block3_conv3 (Conv2D)        (None, 37, 37, 256)       590080    \n",
      "_________________________________________________________________\n",
      "block3_conv4 (Conv2D)        (None, 37, 37, 256)       590080    \n",
      "_________________________________________________________________\n",
      "block3_pool (MaxPooling2D)   (None, 18, 18, 256)       0         \n",
      "_________________________________________________________________\n",
      "block4_conv1 (Conv2D)        (None, 18, 18, 512)       1180160   \n",
      "_________________________________________________________________\n",
      "block4_conv2 (Conv2D)        (None, 18, 18, 512)       2359808   \n",
      "_________________________________________________________________\n",
      "block4_conv3 (Conv2D)        (None, 18, 18, 512)       2359808   \n",
      "_________________________________________________________________\n",
      "block4_conv4 (Conv2D)        (None, 18, 18, 512)       2359808   \n",
      "_________________________________________________________________\n",
      "block4_pool (MaxPooling2D)   (None, 9, 9, 512)         0         \n",
      "_________________________________________________________________\n",
      "block5_conv1 (Conv2D)        (None, 9, 9, 512)         2359808   \n",
      "_________________________________________________________________\n",
      "block5_conv2 (Conv2D)        (None, 9, 9, 512)         2359808   \n",
      "_________________________________________________________________\n",
      "block5_conv3 (Conv2D)        (None, 9, 9, 512)         2359808   \n",
      "_________________________________________________________________\n",
      "block5_conv4 (Conv2D)        (None, 9, 9, 512)         2359808   \n",
      "_________________________________________________________________\n",
      "block5_pool (MaxPooling2D)   (None, 4, 4, 512)         0         \n",
      "_________________________________________________________________\n",
      "flatten (Flatten)            (None, 8192)              0         \n",
      "_________________________________________________________________\n",
      "dense (Dense)                (None, 512)               4194816   \n",
      "_________________________________________________________________\n",
      "dropout (Dropout)            (None, 512)               0         \n",
      "_________________________________________________________________\n",
      "dense_1 (Dense)              (None, 5)                 2565      \n",
      "=================================================================\n",
      "Total params: 24,221,765\n",
      "Trainable params: 4,197,381\n",
      "Non-trainable params: 20,024,384\n",
      "_________________________________________________________________\n"
     ]
    }
   ],
   "source": [
    "\n",
    "\n",
    "model = custom_model()\n",
    "model.summary()\n",
    "\n"
   ]
  },
  {
   "cell_type": "code",
   "execution_count": 50,
   "metadata": {},
   "outputs": [],
   "source": [
    "def exponential_decay(lr0, s):\n",
    "    def exponential_decay_fn(epoch):\n",
    "        return lr0 * 0.1 ** (epoch / s)\n",
    "\n",
    "    return exponential_decay_fn\n",
    "\n",
    "\n",
    "exponential_decay_fn = exponential_decay(lr0=0.0009, s=5)\n",
    "\n",
    "lr_scheduler_ed = keras.callbacks.LearningRateScheduler(exponential_decay_fn)\n",
    "\n",
    "\n",
    "early_stopping_m = keras.callbacks.EarlyStopping(monitor='val_loss', mode='min', verbose=1, patience=5)"
   ]
  },
  {
   "cell_type": "code",
   "execution_count": 51,
   "metadata": {},
   "outputs": [],
   "source": [
    "model.compile(optimizer='adam',\n",
    "              loss='categorical_crossentropy',\n",
    "              metrics=['accuracy'])"
   ]
  },
  {
   "cell_type": "code",
   "execution_count": 52,
   "metadata": {},
   "outputs": [
    {
     "name": "stdout",
     "output_type": "stream",
     "text": [
      "Epoch 1/30\n",
      "68/68 [==============================] - ETA: 0s - loss: 1.1547 - accuracy: 0.6475"
     ]
    },
    {
     "name": "stderr",
     "output_type": "stream",
     "text": [
      "c:\\users\\chaku\\appdata\\local\\programs\\python\\python38\\lib\\site-packages\\PIL\\TiffImagePlugin.py:763: UserWarning: Possibly corrupt EXIF data.  Expecting to read 11 bytes but only got 10. Skipping tag 42037\n",
      "  warnings.warn(\n"
     ]
    },
    {
     "name": "stdout",
     "output_type": "stream",
     "text": [
      "68/68 [==============================] - 620s 9s/step - loss: 1.1547 - accuracy: 0.6475 - val_loss: 0.2594 - val_accuracy: 0.8936\n",
      "Epoch 2/30\n",
      "68/68 [==============================] - 626s 9s/step - loss: 0.3560 - accuracy: 0.8853 - val_loss: 0.2612 - val_accuracy: 0.9000\n",
      "Epoch 3/30\n",
      "68/68 [==============================] - 578s 9s/step - loss: 0.2536 - accuracy: 0.9241 - val_loss: 0.1561 - val_accuracy: 0.9596\n",
      "Epoch 4/30\n",
      "68/68 [==============================] - 120s 2s/step - loss: 0.1723 - accuracy: 0.9574 - val_loss: 0.1325 - val_accuracy: 0.9617\n",
      "Epoch 5/30\n",
      "68/68 [==============================] - 153s 2s/step - loss: 0.1343 - accuracy: 0.9667 - val_loss: 0.1298 - val_accuracy: 0.9617\n",
      "Epoch 6/30\n",
      "68/68 [==============================] - 158s 2s/step - loss: 0.1239 - accuracy: 0.9722 - val_loss: 0.1233 - val_accuracy: 0.9617\n",
      "Epoch 7/30\n",
      "68/68 [==============================] - 155s 2s/step - loss: 0.1093 - accuracy: 0.9769 - val_loss: 0.1231 - val_accuracy: 0.9617\n",
      "Epoch 8/30\n",
      "68/68 [==============================] - 150s 2s/step - loss: 0.1106 - accuracy: 0.9815 - val_loss: 0.1217 - val_accuracy: 0.9617\n",
      "Epoch 9/30\n",
      "68/68 [==============================] - 153s 2s/step - loss: 0.1143 - accuracy: 0.9750 - val_loss: 0.1230 - val_accuracy: 0.9596\n",
      "Epoch 10/30\n",
      "68/68 [==============================] - 154s 2s/step - loss: 0.1056 - accuracy: 0.9787 - val_loss: 0.1236 - val_accuracy: 0.9596\n",
      "Epoch 11/30\n",
      "68/68 [==============================] - 151s 2s/step - loss: 0.1077 - accuracy: 0.9787 - val_loss: 0.1223 - val_accuracy: 0.9617\n",
      "Epoch 12/30\n",
      "68/68 [==============================] - 148s 2s/step - loss: 0.0959 - accuracy: 0.9815 - val_loss: 0.1219 - val_accuracy: 0.9617\n",
      "Epoch 13/30\n",
      "68/68 [==============================] - 148s 2s/step - loss: 0.0977 - accuracy: 0.9824 - val_loss: 0.1220 - val_accuracy: 0.9617\n",
      "Epoch 00013: early stopping\n"
     ]
    }
   ],
   "source": [
    "history = model.fit(train_generator,\n",
    "                    validation_data=valid_generator,\n",
    "                    epochs=30,\n",
    "                    batch_size=32,\n",
    "                    callbacks=[lr_scheduler_ed, early_stopping_m],\n",
    "                    verbose=1\n",
    "                    )"
   ]
  },
  {
   "cell_type": "code",
   "execution_count": 53,
   "metadata": {},
   "outputs": [
    {
     "data": {
      "text/plain": [
       "<Figure size 432x288 with 0 Axes>"
      ]
     },
     "execution_count": 53,
     "metadata": {},
     "output_type": "execute_result"
    },
    {
     "data": {
      "image/png": "[encoded data removed]",
      "text/plain": [
       "<Figure size 432x288 with 1 Axes>"
      ]
     },
     "metadata": {
      "needs_background": "light"
     },
     "output_type": "display_data"
    },
    {
     "data": {
      "text/plain": [
       "<Figure size 432x288 with 0 Axes>"
      ]
     },
     "metadata": {},
     "output_type": "display_data"
    }
   ],
   "source": [
    "acc = history.history['accuracy']\n",
    "val_acc = history.history['val_accuracy']\n",
    "\n",
    "plt.plot(history.epoch, acc, 'r', label='Training accuracy')\n",
    "plt.plot(history.epoch, val_acc, 'b', label='Validation accuracy')\n",
    "plt.title('Training and validation accuracy')\n",
    "plt.grid(True)\n",
    "plt.figure()"
   ]
  },
  {
   "cell_type": "code",
   "execution_count": 54,
   "metadata": {},
   "outputs": [
    {
     "data": {
      "image/png": "[encoded data removed]",
      "text/plain": [
       "<Figure size 432x288 with 1 Axes>"
      ]
     },
     "metadata": {
      "needs_background": "light"
     },
     "output_type": "display_data"
    }
   ],
   "source": [
    "\n",
    "\n",
    "loss = history.history['loss']\n",
    "val_loss = history.history['val_loss']\n",
    "\n",
    "plt.plot(history.epoch, loss, 'r', label='Training Loss')\n",
    "plt.plot(history.epoch, val_loss, 'b', label='Validation Loss')\n",
    "plt.title('Training and validation loss')\n",
    "plt.legend()\n",
    "plt.grid(True)\n",
    "plt.show()\n",
    "\n"
   ]
  },
  {
   "cell_type": "code",
   "execution_count": 56,
   "metadata": {},
   "outputs": [
    {
     "name": "stdout",
     "output_type": "stream",
     "text": [
      "30/30 [==============================] - 40s 1s/step - loss: 0.1220 - accuracy: 0.9617\n"
     ]
    },
    {
     "data": {
      "text/plain": [
       "[0.12199116498231888, 0.9617021083831787]"
      ]
     },
     "execution_count": 56,
     "metadata": {},
     "output_type": "execute_result"
    }
   ],
   "source": [
    "\n",
    "\n",
    "model.evaluate(valid_generator, batch_size=1)\n",
    "\n"
   ]
  },
  {
   "cell_type": "code",
   "execution_count": 57,
   "metadata": {},
   "outputs": [
    {
     "name": "stdout",
     "output_type": "stream",
     "text": [
      "              precision    recall  f1-score   support\n",
      "\n",
      "           0       0.99      0.95      0.97        97\n",
      "           1       0.90      0.95      0.93        80\n",
      "           2       0.97      0.99      0.98       115\n",
      "           3       0.99      0.99      0.99        69\n",
      "           4       0.96      0.94      0.95       109\n",
      "\n",
      "    accuracy                           0.96       470\n",
      "   macro avg       0.96      0.96      0.96       470\n",
      "weighted avg       0.96      0.96      0.96       470\n",
      "\n"
     ]
    }
   ],
   "source": [
    "\n",
    "\n",
    "y_pred = model.predict(valid_generator)\n",
    "y_pred = np.argmax(y_pred, axis=1)\n",
    "print(classification_report(valid_generator.classes, y_pred))\n",
    "\n"
   ]
  },
  {
   "cell_type": "code",
   "execution_count": 58,
   "metadata": {},
   "outputs": [],
   "source": [
    "model.save(\"Yoga_Detection1.h5\")"
   ]
  },
  {
   "cell_type": "code",
   "execution_count": 59,
   "metadata": {},
   "outputs": [],
   "source": [
    "model.save(\"Yoga_Detectionhdf5.hdf5\")"
   ]
  },
  {
   "cell_type": "code",
   "execution_count": 62,
   "metadata": {},
   "outputs": [
    {
     "name": "stdout",
     "output_type": "stream",
     "text": [
      "4\n"
     ]
    }
   ],
   "source": [
    "img = keras.preprocessing.image.load_img(\n",
    "    \"test5.jpg\", target_size=(150,150)\n",
    ")\n",
    "img_array = keras.preprocessing.image.img_to_array(img)\n",
    "img_array = tf.expand_dims(img_array, 0)  # Create batch axis\n",
    "\n",
    "predictions = model.predict(img_array)\n",
    "preds = np.argmax(predictions, axis=1)\n",
    "score = preds[0]\n",
    "print(score)\n",
    "# print(\n",
    "#     \"This image is %.2f percent downdog and %.2f percent goddess.\"\n",
    "#     % (100 * (1 - score), 100 * score)\n",
    "# )"
   ]
  },
  {
   "cell_type": "code",
   "execution_count": null,
   "metadata": {},
   "outputs": [],
   "source": []
  }
 ],
 "metadata": {
  "kernelspec": {
   "display_name": "Python 3",
   "language": "python",
   "name": "python3"
  },
  "language_info": {
   "codemirror_mode": {
    "name": "ipython",
    "version": 3
   },
   "file_extension": ".py",
   "mimetype": "text/x-python",
   "name": "python",
   "nbconvert_exporter": "python",
   "pygments_lexer": "ipython3",
   "version": "3.8.9"
  }
 },
 "nbformat": 4,
 "nbformat_minor": 4
}
